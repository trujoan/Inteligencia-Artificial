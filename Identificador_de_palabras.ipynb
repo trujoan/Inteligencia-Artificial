{
  "nbformat": 4,
  "nbformat_minor": 0,
  "metadata": {
    "colab": {
      "provenance": [],
      "authorship_tag": "ABX9TyOQsdx5jiOlEP8Q3NUIFBrw",
      "include_colab_link": true
    },
    "kernelspec": {
      "name": "python3",
      "display_name": "Python 3"
    },
    "language_info": {
      "name": "python"
    }
  },
  "cells": [
    {
      "cell_type": "markdown",
      "metadata": {
        "id": "view-in-github",
        "colab_type": "text"
      },
      "source": [
        "<a href=\"https://colab.research.google.com/github/trujoan/Inteligencia-Artificial/blob/main/Identificador_de_palabras.ipynb\" target=\"_parent\"><img src=\"https://colab.research.google.com/assets/colab-badge.svg\" alt=\"Open In Colab\"/></a>"
      ]
    },
    {
      "cell_type": "markdown",
      "source": [
        "PALABRAS QUE MÁS SE REPITEN DE TU TEXTO (1° a 10° según la frecuencia)"
      ],
      "metadata": {
        "id": "qTDQ9Y7XFUH_"
      }
    },
    {
      "cell_type": "code",
      "source": [
        "!pip install python-docx nltk matplotlib > /dev/null"
      ],
      "metadata": {
        "id": "xm3M5LatFTAD"
      },
      "execution_count": null,
      "outputs": []
    },
    {
      "cell_type": "code",
      "execution_count": null,
      "metadata": {
        "id": "HkpwEn5cs94f"
      },
      "outputs": [],
      "source": [
        "from IPython import get_ipython\n",
        "from IPython.display import display\n",
        "import pandas as pd\n",
        "from collections import Counter\n",
        "import docx\n",
        "import nltk\n",
        "from nltk.corpus import stopwords\n",
        "from IPython.display import display\n",
        "import matplotlib.pyplot as plt\n",
        "\n",
        "# Descargar la lista de stop words (conectores) en español (si no la tienes)\n",
        "nltk.download('stopwords', quiet=True)\n",
        "\n",
        "# Cargar el archivo de texto\n",
        "doc = docx.Document('/content/sociologia.docx')\n",
        "texto = \"\"\n",
        "for paragraph in doc.paragraphs:\n",
        "    texto += paragraph.text + \" \"\n",
        "\n",
        "# Preprocesamiento del texto (eliminando números y convirtiendo a minúsculas)\n",
        "texto_limpio = ''.join([i for i in texto.lower() if not i.isdigit()]).replace('.', '').replace(',', '').split()\n",
        "\n",
        "# Obtener la lista de stop words en español\n",
        "stop_words = stopwords.words('spanish')\n",
        "\n",
        "# Agregar stop words adicionales\n",
        "stop_words.extend([\"puede\", \"puedes\", \"podemos\", \"cada\", \"¿cómo\", \"vez\", \"tan\", \")\", \"según\", \"dentro\", \"si\", \"ser\"])  # Agrega las palabras que deseas eliminar\n",
        "\n",
        "# Filtrar las stop words\n",
        "palabras_significativas = [palabra for palabra in texto_limpio if palabra not in stop_words]\n",
        "\n",
        "# Contar la frecuencia de cada palabra significativa\n",
        "conteo_palabras = Counter(palabras_significativas)\n",
        "\n",
        "# Convertir el contador a un DataFrame de pandas (sin renombrar el índice aún)\n",
        "df_conteo = pd.DataFrame.from_dict(conteo_palabras, orient='index', columns=['Frecuencia'])\n",
        "\n",
        "# Ordenar por frecuencia descendente\n",
        "df_conteo = df_conteo.sort_values(by='Frecuencia', ascending=False)\n",
        "\n",
        "# Renombrar el índice a \"Palabras\" (como columna)\n",
        "df_conteo = df_conteo.rename_axis('Palabras', axis='columns')\n",
        "\n",
        "# Mostrar las palabras más repetidas (sin conectores) con formato\n",
        "print(\"*** PALABRAS QUE MÁS SE REPITEN DE TU TEXTO (1° a 10° según la frecuencia): ***\")\n",
        "display(df_conteo.head(10).style.background_gradient(cmap='viridis').set_table_styles([{'selector': 'th', 'props': [('text-align', 'center')]}]))\n",
        "\n",
        "# Crear la gráfica de barras\n",
        "plt.figure(figsize=(10, 6))  # Ajusta el tamaño de la figura si es necesario\n",
        "df_conteo.head(10).plot(kind='bar', color='skyblue')\n",
        "plt.title('Palabras más repetidas')\n",
        "plt.xlabel('Palabras')\n",
        "plt.ylabel('Frecuencia')\n",
        "plt.xticks(rotation=45, ha='right')  # Rotar las etiquetas del eje x para mejor legibilidad\n",
        "plt.tight_layout()  # Ajustar el diseño para evitar que se corten las etiquetas\n",
        "plt.show()"
      ]
    }
  ]
}